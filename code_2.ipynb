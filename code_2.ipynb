{
 "cells": [
  {
   "cell_type": "code",
   "execution_count": null,
   "metadata": {},
   "outputs": [],
   "source": [
    "import cv2\n",
    "from keras.models import model_from_json, Sequential\n",
    "from keras.callbacks import TensorBoard, ModelCheckpoint\n",
    "from keras.layers import BatchNormalization, Activation, Dense, Dropout, Flatten, InputLayer, Conv2D, UpSampling2D\n",
    "from tensorflow.keras.utils import img_to_array, load_img\n",
    "from tensorflow.keras.preprocessing.image import ImageDataGenerator\n",
    "from skimage.color import rgb2lab, lab2rgb\n",
    "import numpy as np\n",
    "import os\n",
    "import tensorflow as tf"
   ]
  },
  {
   "cell_type": "code",
   "execution_count": null,
   "metadata": {},
   "outputs": [],
   "source": [
    "\n",
    "\n",
    "# Data generator\n",
    "def data_generator(directory, batch_size):\n",
    "    datagen = ImageDataGenerator(\n",
    "        shear_range=0.2,\n",
    "        zoom_range=0.2,\n",
    "        rotation_range=20,\n",
    "        horizontal_flip=True\n",
    "    )\n",
    "    while True:\n",
    "        file_list = os.listdir(directory)\n",
    "        random.shuffle(file_list)\n",
    "        for batch_start in range(0, len(file_list), batch_size):\n",
    "            batch_files = file_list[batch_start:batch_start + batch_size]\n",
    "            batch_images = []\n",
    "            for filename in batch_files:\n",
    "                img = load_img(os.path.join(directory, filename), target_size=(256, 256))\n",
    "                img_array = img_to_array(img)\n",
    "                batch_images.append(img_array)\n",
    "            batch_images = np.array(batch_images, dtype=float)\n",
    "            lab_batch = rgb2lab(batch_images / 255.0)\n",
    "            X_batch = lab_batch[:, :, :, 0]\n",
    "            Y_batch = lab_batch[:, :, :, 1:] / 128.0\n",
    "            yield (X_batch.reshape(X_batch.shape + (1,)), Y_batch)\n"
   ]
  },
  {
   "cell_type": "code",
   "execution_count": null,
   "metadata": {},
   "outputs": [],
   "source": [
    "\n",
    "# Set paths\n",
    "train_data_dir = 'Dataset/Train/'\n",
    "test_data_dir = 'Dataset/Test/'\n",
    "save_model_dir = 'Path/To/Save/Model/'  # Change this to the desired path for saving your model\n"
   ]
  },
  {
   "cell_type": "code",
   "execution_count": null,
   "metadata": {},
   "outputs": [],
   "source": [
    "\n",
    "# Parameters\n",
    "batch_size = 10\n",
    "steps_per_epoch = len(os.listdir(train_data_dir)) // batch_size\n",
    "epochs = 500\n"
   ]
  },
  {
   "cell_type": "code",
   "execution_count": null,
   "metadata": {},
   "outputs": [],
   "source": [
    "\n",
    "# CNN model\n",
    "model = Sequential([\n",
    "    Conv2D(64, (3, 3), input_shape=(256, 256, 1), activation='relu', padding='same'),\n",
    "    Conv2D(64, (3, 3), activation='relu', padding='same', strides=2),\n",
    "    Conv2D(128, (3, 3), activation='relu', padding='same'),\n",
    "    Conv2D(128, (3, 3), activation='relu', padding='same', strides=2),\n",
    "    Conv2D(256, (3, 3), activation='relu', padding='same'),\n",
    "    Conv2D(256, (3, 3), activation='relu', padding='same', strides=2),\n",
    "    Conv2D(512, (3, 3), activation='relu', padding='same'),\n",
    "    Conv2D(256, (3, 3), activation='relu', padding='same'),\n",
    "    Conv2D(128, (3, 3), activation='relu', padding='same'),\n",
    "    UpSampling2D((2, 2)),\n",
    "    Conv2D(64, (3, 3), activation='relu', padding='same'),\n",
    "    UpSampling2D((2, 2)),\n",
    "    Conv2D(32, (3, 3), activation='relu', padding='same'),\n",
    "    Conv2D(2, (3, 3), activation='tanh', padding='same'),\n",
    "    UpSampling2D((2, 2))\n",
    "])\n"
   ]
  },
  {
   "cell_type": "code",
   "execution_count": null,
   "metadata": {},
   "outputs": [],
   "source": [
    "\n",
    "# Compile the CNN\n",
    "model.compile(optimizer='rmsprop', loss='mse', metrics=['accuracy'])\n"
   ]
  },
  {
   "cell_type": "code",
   "execution_count": null,
   "metadata": {},
   "outputs": [],
   "source": [
    "\n",
    "# Set up callbacks\n",
    "tensorboard = TensorBoard(log_dir=\"Dataset/output/beta_run\")\n",
    "checkpoint = ModelCheckpoint(filepath=os.path.join(save_model_dir, 'model-{epoch:02d}.h5'), save_weights_only=True, period=10)\n"
   ]
  },
  {
   "cell_type": "code",
   "execution_count": null,
   "metadata": {},
   "outputs": [],
   "source": [
    "# Train model using the generator\n",
    "train_generator = data_generator(train_data_dir, batch_size)\n",
    "history = model.fit(train_generator, steps_per_epoch=steps_per_epoch, epochs=epochs, callbacks=[tensorboard, checkpoint])\n"
   ]
  },
  {
   "cell_type": "code",
   "execution_count": null,
   "metadata": {},
   "outputs": [],
   "source": [
    "\n",
    "# Summarize history for model accuracy\n",
    "plt.plot(history.history['accuracy'])\n",
    "plt.title('Model Accuracy')\n",
    "plt.ylabel('Accuracy')\n",
    "plt.xlabel('Epoch')\n",
    "plt.legend(['Train'], loc='upper left')\n",
    "plt.show()\n"
   ]
  },
  {
   "cell_type": "code",
   "execution_count": null,
   "metadata": {},
   "outputs": [],
   "source": [
    "\n",
    "\n",
    "# Summarize history for model loss\n",
    "plt.plot(history.history['loss'])\n",
    "plt.title('Model Loss')\n",
    "plt.ylabel('Loss')\n",
    "plt.xlabel('Epoch')\n",
    "plt.legend(['Train'], loc='upper left')\n",
    "plt.show()\n"
   ]
  },
  {
   "cell_type": "code",
   "execution_count": null,
   "metadata": {},
   "outputs": [],
   "source": [
    "\n",
    "# Save model architecture and weights\n",
    "model_json = model.to_json()\n",
    "with open(os.path.join(save_model_dir, \"model.json\"), \"w\") as json_file:\n",
    "    json_file.write(model_json)\n",
    "model.save_weights(os.path.join(save_model_dir, \"model.h5\"))\n"
   ]
  },
  {
   "cell_type": "code",
   "execution_count": null,
   "metadata": {},
   "outputs": [],
   "source": [
    "\n",
    "# Load json and create model\n",
    "json_file = open(os.path.join(save_model_dir, 'model.json'), 'r')\n",
    "loaded_model_json = json_file.read()\n",
    "json_file.close()\n",
    "loaded_model = model_from_json(loaded_model_json)"
   ]
  },
  {
   "cell_type": "code",
   "execution_count": null,
   "metadata": {},
   "outputs": [],
   "source": [
    "\n",
    "# Load weights into new model\n",
    "loaded_model.load_weights(os.path.join(save_model_dir, \"model.h5\"))\n",
    "\n",
    "loaded_model.summary()\n"
   ]
  },
  {
   "cell_type": "code",
   "execution_count": null,
   "metadata": {},
   "outputs": [],
   "source": [
    "\n",
    "# Test images\n",
    "loaded_model.compile(optimizer='rmsprop', loss='mse', metrics=['accuracy'])\n",
    "\n",
    "def preprocess_test_images(directory):\n",
    "    file_list = os.listdir(directory)\n",
    "    images = []\n",
    "    for filename in file_list:\n",
    "        img = load_img(os.path.join(directory, filename), target_size=(256, 256))\n",
    "        img_array = img_to_array(img)\n",
    "        images.append(img_array)\n",
    "    images = np.array(images, dtype=float)\n",
    "    lab_images = rgb2lab(images / 255.0)\n",
    "    X = lab_images[:, :, :, 0]\n",
    "    Y = lab_images[:, :, :, 1:] / 128.0\n",
    "    return X.reshape(X.shape + (1,)), Y\n",
    "\n",
    "Xtest, Ytest = preprocess_test_images(test_data_dir)\n",
    "print(loaded_model.evaluate(Xtest, Ytest, batch_size=batch_size))\n"
   ]
  },
  {
   "cell_type": "code",
   "execution_count": null,
   "metadata": {},
   "outputs": [],
   "source": [
    "\n",
    "# Display test results\n",
    "fig, ax = plt.subplots(24, 2, figsize=(16, 100))\n",
    "row = 0\n",
    "colorize = []\n",
    "\n",
    "print('Output of the Model')\n",
    "\n",
    "for filename in os.listdir(test_data_dir):\n",
    "    img = cv2.imread(os.path.join(test_data_dir, filename))\n",
    "\n",
    "    if img is None:\n",
    "        print(f\"Couldn't read image {filename}. Skipping.\")\n",
    "        continue\n",
    "\n",
    "    img = cv2.cvtColor(img, cv2.COLOR_BGR2RGB)\n",
    "    img_resized = cv2.resize(img, (256, 256))\n",
    "    colorize.append(img_resized)\n",
    "\n",
    "    ax[row, 0].imshow(cv2.cvtColor(img_resized, cv2.COLOR_BGR2RGB), interpolation='nearest')\n",
    "    row += 1\n",
    "\n",
    "colorize = np.array(colorize, dtype=float)\n",
    "colorize = rgb2lab(1.0 / 255 * colorize)[:, :, :, 0]\n",
    "colorize = colorize.reshape(colorize.shape + (1,))\n"
   ]
  },
  {
   "cell_type": "code",
   "execution_count": null,
   "metadata": {},
   "outputs": [],
   "source": [
    "\n",
    "# Test model\n",
    "output = loaded_model.predict(colorize)\n",
    "output *= 128\n",
    "\n",
    "row = 0\n"
   ]
  },
  {
   "cell_type": "code",
   "execution_count": null,
   "metadata": {},
   "outputs": [],
   "source": [
    "\n",
    "# Output colorizations\n",
    "for i in range(len(output)):\n",
    "    cur = np.zeros((256, 256, 3))\n",
    "    cur[:, :, 0] = colorize[i][:, :, 0]\n",
    "    cur[:, :, 1:] = output[i]\n",
    "    resImage = lab2rgb(cur)\n",
    "\n",
    "    ax[row, 1].imshow(resImage, interpolation='nearest')\n",
    "    row += 1\n",
    "\n",
    "plt.show()\n"
   ]
  }
 ],
 "metadata": {
  "language_info": {
   "name": "python"
  }
 },
 "nbformat": 4,
 "nbformat_minor": 2
}
