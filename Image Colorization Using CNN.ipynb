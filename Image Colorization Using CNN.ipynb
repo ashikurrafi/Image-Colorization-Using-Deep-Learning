{
 "cells": [
  {
   "cell_type": "markdown",
   "metadata": {},
   "source": [
    "# <center>Image Colorization Using CNN</center>\n"
   ]
  },
  {
   "cell_type": "markdown",
   "metadata": {},
   "source": [
    "## Importing libraries\n"
   ]
  },
  {
   "cell_type": "code",
   "execution_count": 1,
   "metadata": {},
   "outputs": [],
   "source": [
    "import os\n",
    "import cv2\n",
    "import keras\n",
    "import numpy\n",
    "import skimage\n",
    "import matplotlib\n",
    "import tensorflow"
   ]
  },
  {
   "cell_type": "markdown",
   "metadata": {},
   "source": [
    "## Getting image from dataset and converting into array\n"
   ]
  },
  {
   "cell_type": "code",
   "execution_count": 2,
   "metadata": {},
   "outputs": [],
   "source": [
    "X = []\n",
    "for image_name in os.listdir('Dataset\\Training_image/'):\n",
    "    X.append(tensorflow.keras.utils.img_to_array(\n",
    "        tensorflow.keras.utils.load_img('Dataset\\Training_image/'+image_name, target_size=(256, 256))))\n",
    "X = numpy.array(X, dtype=float)"
   ]
  },
  {
   "cell_type": "markdown",
   "metadata": {},
   "source": [
    "## Setting Training and Testing data\n"
   ]
  },
  {
   "cell_type": "code",
   "execution_count": null,
   "metadata": {},
   "outputs": [],
   "source": [
    "split = int(0.95*len(X))\n",
    "Xtrain = X[:split]\n",
    "Xtrain = 1.0/255*Xtrain\n",
    "Xtest = X[split:]\n",
    "Xtest = 1.0/255*Xtest"
   ]
  },
  {
   "cell_type": "markdown",
   "metadata": {},
   "source": [
    "## Defining CNN Model\n"
   ]
  },
  {
   "cell_type": "code",
   "execution_count": null,
   "metadata": {},
   "outputs": [],
   "source": [
    "model = keras.models.Sequential()"
   ]
  },
  {
   "cell_type": "markdown",
   "metadata": {},
   "source": [
    "### Input layer\n"
   ]
  },
  {
   "cell_type": "code",
   "execution_count": null,
   "metadata": {},
   "outputs": [],
   "source": [
    "model.add(keras.layers.Conv2D(64, (3, 3), input_shape=(\n",
    "    256, 256, 1), activation='relu', padding='same'))"
   ]
  },
  {
   "cell_type": "markdown",
   "metadata": {},
   "source": [
    "### Hidden Layers\n"
   ]
  },
  {
   "cell_type": "code",
   "execution_count": null,
   "metadata": {},
   "outputs": [],
   "source": [
    "model.add(keras.layers.Conv2D(\n",
    "    64, (3, 3), activation='relu', padding='same', strides=2))\n",
    "\n",
    "model.add(keras.layers.Conv2D(128, (3, 3), activation='relu', padding='same'))\n",
    "\n",
    "model.add(keras.layers.Conv2D(\n",
    "    128, (3, 3), activation='relu', padding='same', strides=2))\n",
    "\n",
    "model.add(keras.layers.Conv2D(256, (3, 3), activation='relu', padding='same'))\n",
    "\n",
    "model.add(keras.layers.Conv2D(\n",
    "    256, (3, 3), activation='relu', padding='same', strides=2))\n",
    "\n",
    "model.add(keras.layers.Conv2D(512, (3, 3), activation='relu', padding='same'))\n",
    "\n",
    "model.add(keras.layers.Conv2D(256, (3, 3), activation='relu', padding='same'))\n",
    "\n",
    "model.add(keras.layers.Conv2D(128, (3, 3), activation='relu', padding='same'))\n",
    "\n",
    "model.add(keras.layers.UpSampling2D((2, 2)))\n",
    "\n",
    "model.add(keras.layers.Conv2D(64, (3, 3), activation='relu', padding='same'))\n",
    "\n",
    "model.add(keras.layers.UpSampling2D((2, 2)))\n",
    "\n",
    "model.add(keras.layers.Conv2D(32, (3, 3), activation='relu', padding='same'))\n",
    "\n",
    "model.add(keras.layers.Conv2D(2, (3, 3), activation='tanh', padding='same'))\n",
    "\n",
    "model.add(keras.layers.UpSampling2D((2, 2)))"
   ]
  },
  {
   "cell_type": "markdown",
   "metadata": {},
   "source": [
    "### Compile model\n"
   ]
  },
  {
   "cell_type": "markdown",
   "metadata": {},
   "source": [
    "model.compile(optimizer='rmsprop', loss='mse', metrics = ['accuracy'])"
   ]
  },
  {
   "cell_type": "markdown",
   "metadata": {},
   "source": [
    "## Image transformation\n"
   ]
  },
  {
   "cell_type": "code",
   "execution_count": null,
   "metadata": {},
   "outputs": [],
   "source": [
    "datagen = tensorflow.keras.preprocessing.image.ImageDataGenerator(\n",
    "    shear_range=0.2,\n",
    "    zoom_range=0.2,\n",
    "    rotation_range=20,\n",
    "    horizontal_flip=True)"
   ]
  },
  {
   "cell_type": "markdown",
   "metadata": {},
   "source": [
    "## Generate training data\n"
   ]
  },
  {
   "cell_type": "code",
   "execution_count": null,
   "metadata": {},
   "outputs": [],
   "source": [
    "batch_size = 10\n",
    "\n",
    "\n",
    "def image_a_b_gen(batch_size):\n",
    "    for batch in datagen.flow(Xtrain, batch_size=batch_size):\n",
    "        lab_batch = skimage.color.rgb2lab(batch)\n",
    "        X_batch = lab_batch[:, :, :, 0]\n",
    "        Y_batch = lab_batch[:, :, :, 1:] / 128\n",
    "        yield (X_batch.reshape(X_batch.shape+(1,)), Y_batch)"
   ]
  },
  {
   "cell_type": "markdown",
   "metadata": {},
   "source": [
    "## Train model"
   ]
  },
  {
   "cell_type": "code",
   "execution_count": null,
   "metadata": {},
   "outputs": [],
   "source": [
    "tensorboard = tensorflow.keras.callbacks.TensorBoard(log_dir=\"Training_Information/Logs\")\n",
    "trainedmodel = model.fit(image_a_b_gen(batch_size), callbacks=[tensorboard],epochs=500, steps_per_epoch=30)"
   ]
  },
  {
   "cell_type": "markdown",
   "metadata": {},
   "source": [
    "## Show model accuracy"
   ]
  },
  {
   "cell_type": "code",
   "execution_count": null,
   "metadata": {},
   "outputs": [],
   "source": [
    "matplotlib.pyplot.plot(trainedmodel.history['accuracy'])\n",
    "matplotlib.pyplot.title('model accuracy')\n",
    "matplotlib.pyplot.ylabel('accuracy')\n",
    "matplotlib.pyplot.xlabel('epoch')\n",
    "matplotlib.pyplot.legend(['train', 'test'], loc='upper left')\n",
    "matplotlib.pyplot.show()"
   ]
  }
 ],
 "metadata": {
  "kernelspec": {
   "display_name": "Python 3",
   "language": "python",
   "name": "python3"
  },
  "language_info": {
   "codemirror_mode": {
    "name": "ipython",
    "version": 3
   },
   "file_extension": ".py",
   "mimetype": "text/x-python",
   "name": "python",
   "nbconvert_exporter": "python",
   "pygments_lexer": "ipython3",
   "version": "3.11.7"
  }
 },
 "nbformat": 4,
 "nbformat_minor": 2
}
