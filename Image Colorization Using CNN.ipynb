{
 "cells": [
  {
   "cell_type": "markdown",
   "metadata": {},
   "source": [
    "# <center>Image Colorization Using CNN</center>\n"
   ]
  },
  {
   "cell_type": "markdown",
   "metadata": {},
   "source": [
    "## Importing libraries\n"
   ]
  },
  {
   "cell_type": "code",
   "execution_count": null,
   "metadata": {},
   "outputs": [],
   "source": [
    "import os\n",
    "import cv2\n",
    "import keras\n",
    "import numpy\n",
    "import skimage\n",
    "import matplotlib\n",
    "import tensorflow"
   ]
  },
  {
   "cell_type": "markdown",
   "metadata": {},
   "source": [
    "## Getting image from dataset and converting into array\n"
   ]
  },
  {
   "cell_type": "code",
   "execution_count": null,
   "metadata": {},
   "outputs": [],
   "source": [
    "X = []\n",
    "for imagename in os.listdir('Dataset/Training_image/'):\n",
    "    X.append(tensorflow.keras.utils.img_to_array(tensorflow.keras.utils.load_img(\n",
    "        'Dataset/Training_image/'+imagename, target_size=(256, 256))))\n",
    "X = numpy.array(X, dtype=float)"
   ]
  },
  {
   "cell_type": "markdown",
   "metadata": {},
   "source": [
    "## Setting Training and Testing data\n"
   ]
  },
  {
   "cell_type": "code",
   "execution_count": null,
   "metadata": {},
   "outputs": [],
   "source": [
    "split = int(0.95*len(X))\n",
    "Xtrain = X[:split]\n",
    "Xtrain = 1.0/255*Xtrain\n",
    "Xtest = X[split:]\n",
    "Xtest = 1.0/255*Xtest"
   ]
  },
  {
   "cell_type": "markdown",
   "metadata": {},
   "source": [
    "## Defining CNN Model\n"
   ]
  },
  {
   "cell_type": "code",
   "execution_count": null,
   "metadata": {},
   "outputs": [],
   "source": [
    "model = keras.models.Sequential()"
   ]
  },
  {
   "cell_type": "markdown",
   "metadata": {},
   "source": [
    "### Input layer\n"
   ]
  },
  {
   "cell_type": "code",
   "execution_count": null,
   "metadata": {},
   "outputs": [],
   "source": [
    "model.add(keras.layers.Conv2D(64, (3, 3), input_shape=(\n",
    "    256, 256, 1), activation='relu', padding='same'))"
   ]
  },
  {
   "cell_type": "markdown",
   "metadata": {},
   "source": [
    "### Hidden Layers\n"
   ]
  },
  {
   "cell_type": "code",
   "execution_count": null,
   "metadata": {},
   "outputs": [],
   "source": [
    "model.add(keras.layers.Conv2D(\n",
    "    64, (3, 3), activation='relu', padding='same', strides=2))\n",
    "model.add(keras.layers.Conv2D(128, (3, 3), activation='relu', padding='same'))\n",
    "model.add(keras.layers.Conv2D(\n",
    "    128, (3, 3), activation='relu', padding='same', strides=2))\n",
    "model.add(keras.layers.Conv2D(256, (3, 3), activation='relu', padding='same'))\n",
    "model.add(keras.layers.Conv2D(\n",
    "    256, (3, 3), activation='relu', padding='same', strides=2))\n",
    "model.add(keras.layers.Conv2D(512, (3, 3), activation='relu', padding='same'))\n",
    "model.add(keras.layers.Conv2D(512, (3, 3), activation='relu',\n",
    "          padding='same'))\n",
    "model.add(keras.layers.Conv2D(512, (3, 3), activation='relu',\n",
    "          padding='same'))\n",
    "model.add(keras.layers.Conv2D(256, (3, 3), activation='relu', padding='same'))\n",
    "model.add(keras.layers.Conv2D(128, (3, 3), activation='relu', padding='same'))\n",
    "model.add(keras.layers.UpSampling2D((2, 2)))\n",
    "model.add(keras.layers.Conv2D(64, (3, 3), activation='relu', padding='same'))\n",
    "model.add(keras.layers.UpSampling2D((2, 2)))\n",
    "model.add(keras.layers.Conv2D(32, (3, 3), activation='relu', padding='same'))\n",
    "model.add(keras.layers.Conv2D(2, (3, 3), activation='tanh', padding='same'))\n",
    "model.add(keras.layers.UpSampling2D((2, 2)))"
   ]
  },
  {
   "cell_type": "markdown",
   "metadata": {},
   "source": [
    "### Compile model\n"
   ]
  },
  {
   "cell_type": "code",
   "execution_count": null,
   "metadata": {},
   "outputs": [],
   "source": [
    "model.compile(optimizer='rmsprop', loss='mse', metrics=['accuracy'])"
   ]
  },
  {
   "cell_type": "markdown",
   "metadata": {},
   "source": [
    "## Image transformation\n"
   ]
  },
  {
   "cell_type": "code",
   "execution_count": null,
   "metadata": {},
   "outputs": [],
   "source": [
    "datagen = tensorflow.keras.preprocessing.image.ImageDataGenerator(\n",
    "    shear_range=0.2,\n",
    "    zoom_range=0.2,\n",
    "    rotation_range=20,\n",
    "    horizontal_flip=True)"
   ]
  },
  {
   "cell_type": "markdown",
   "metadata": {},
   "source": [
    "## Generate training data\n"
   ]
  },
  {
   "cell_type": "code",
   "execution_count": null,
   "metadata": {},
   "outputs": [],
   "source": [
    "batch_size = 10\n",
    "\n",
    "\n",
    "def image_a_b_gen(batch_size):\n",
    "    for batch in datagen.flow(Xtrain, batch_size=batch_size):\n",
    "        lab_batch = skimage.color.rgb2lab(batch)\n",
    "        X_batch = lab_batch[:, :, :, 0]\n",
    "        Y_batch = lab_batch[:, :, :, 1:] / 128\n",
    "        yield (X_batch.reshape(X_batch.shape+(1,)), Y_batch)"
   ]
  },
  {
   "cell_type": "markdown",
   "metadata": {},
   "source": [
    "## Train model\n"
   ]
  },
  {
   "cell_type": "code",
   "execution_count": null,
   "metadata": {},
   "outputs": [],
   "source": [
    "tensorboard = keras.callbacks.TensorBoard(\n",
    "    log_dir=\"/content/drive/MyDrive/Colab Notebooks/Image_Colorization/\")\n",
    "trainedmodel = model.fit(image_a_b_gen(batch_size), callbacks=[\n",
    "                         tensorboard], epochs=500, steps_per_epoch=30)"
   ]
  },
  {
   "cell_type": "markdown",
   "metadata": {},
   "source": [
    "## Show model accuracy\n"
   ]
  },
  {
   "cell_type": "code",
   "execution_count": null,
   "metadata": {},
   "outputs": [],
   "source": [
    "matplotlib.pyplot.plot(trainedmodel.history['accuracy'])\n",
    "matplotlib.pyplot.title('model accuracy')\n",
    "matplotlib.pyplot.ylabel('accuracy')\n",
    "matplotlib.pyplot.xlabel('epoch')\n",
    "matplotlib.pyplot.legend(['train', 'test'], loc='upper left')\n",
    "matplotlib.pyplot.show()"
   ]
  },
  {
   "cell_type": "markdown",
   "metadata": {},
   "source": [
    "## Show model loss\n"
   ]
  },
  {
   "cell_type": "code",
   "execution_count": null,
   "metadata": {},
   "outputs": [],
   "source": [
    "matplotlib.pyplot.plot(trainedmodel.history['loss'])\n",
    "matplotlib.pyplot.title('model loss')\n",
    "matplotlib.pyplot.ylabel('loss')\n",
    "matplotlib.pyplot.xlabel('epoch')\n",
    "matplotlib.pyplot.legend(['train', 'test'], loc='upper left')\n",
    "matplotlib.pyplot.show()"
   ]
  },
  {
   "cell_type": "markdown",
   "metadata": {},
   "source": [
    "## Train and Test data comparison\n"
   ]
  },
  {
   "cell_type": "code",
   "execution_count": null,
   "metadata": {},
   "outputs": [],
   "source": [
    "matplotlib.pyplot.figure(figsize=(10, 5))\n",
    "\n",
    "matplotlib.pyplot.subplot(1, 2, 1)\n",
    "matplotlib.pyplot.hist(Xtrain.flatten(), bins=50,\n",
    "                       color='blue', alpha=0.7, label='Train Data')\n",
    "matplotlib.pyplot.title('Train Data Distribution')\n",
    "matplotlib.pyplot.xlabel('Pixel Intensity')\n",
    "matplotlib.pyplot.ylabel('Frequency')\n",
    "matplotlib.pyplot.legend()\n",
    "\n",
    "matplotlib.pyplot.subplot(1, 2, 2)\n",
    "matplotlib.pyplot.hist(Xtest.flatten(), bins=50,\n",
    "                       color='red', alpha=0.7, label='Test Data')\n",
    "matplotlib.pyplot.title('Test Data Distribution')\n",
    "matplotlib.pyplot.xlabel('Pixel Intensity')\n",
    "matplotlib.pyplot.ylabel('Frequency')\n",
    "matplotlib.pyplot.legend()\n",
    "\n",
    "matplotlib.pyplot.tight_layout()\n",
    "matplotlib.pyplot.show()"
   ]
  },
  {
   "cell_type": "markdown",
   "metadata": {},
   "source": [
    "## Save model\n"
   ]
  },
  {
   "cell_type": "code",
   "execution_count": null,
   "metadata": {},
   "outputs": [],
   "source": [
    "model_json = model.to_json()\n",
    "with open(\"Model/model.json\", \"w\") as json_file:\n",
    "    json_file.write(model_json)\n",
    "model.save_weights(\"Model/model.h5\")"
   ]
  },
  {
   "cell_type": "markdown",
   "metadata": {},
   "source": [
    "## Load model and weight\n"
   ]
  },
  {
   "cell_type": "code",
   "execution_count": null,
   "metadata": {},
   "outputs": [],
   "source": [
    "json_file = open('Model/model.json', 'r')\n",
    "loaded_model_json = json_file.read()\n",
    "json_file.close()\n",
    "loaded_model = keras.models.model_from_json(loaded_model_json)\n",
    "loaded_model.load_weights(\"Model/model.h5\")"
   ]
  },
  {
   "cell_type": "markdown",
   "metadata": {},
   "source": [
    "## Model summery\n"
   ]
  },
  {
   "cell_type": "code",
   "execution_count": null,
   "metadata": {},
   "outputs": [],
   "source": [
    "loaded_model.summary()"
   ]
  },
  {
   "cell_type": "markdown",
   "metadata": {},
   "source": [
    "## Process test image\n"
   ]
  },
  {
   "cell_type": "code",
   "execution_count": null,
   "metadata": {},
   "outputs": [],
   "source": [
    "loaded_model.compile(optimizer='rmsprop', loss='mse', metrics=['accuracy'])\n",
    "Xtest = skimage.color.rgb2lab(1.0/255*X[split:])[:, :, :, 0]\n",
    "Xtest = Xtest.reshape(Xtest.shape+(1,))\n",
    "Ytest = skimage.color.rgb2lab(1.0/255*X[split:])[:, :, :, 1:]\n",
    "Ytest = Ytest / 128\n",
    "print(loaded_model.evaluate(Xtest, Ytest, batch_size=10))"
   ]
  },
  {
   "cell_type": "markdown",
   "metadata": {},
   "source": [
    "## Colorize Image\n"
   ]
  },
  {
   "cell_type": "code",
   "execution_count": null,
   "metadata": {},
   "outputs": [],
   "source": [
    "\n",
    "# Path to the test folder\n",
    "test_folder_path = 'Dataset/Testing_Image/'\n",
    "\n",
    "# Create subplots for displaying original and colorized images\n",
    "fig, ax = matplotlib.pyplot.subplots(len(os.listdir(\n",
    "    test_folder_path)), 2, figsize=(16, 4 * len(os.listdir(test_folder_path))))\n",
    "\n",
    "row = 0\n",
    "colorize = []\n",
    "\n",
    "# Iterate over each image in the test folder\n",
    "for filename in os.listdir(test_folder_path):\n",
    "    img = cv2.imread(os.path.join(test_folder_path, filename))\n",
    "\n",
    "    # Check if image is read correctly\n",
    "    if img is None:\n",
    "        print(f\"Couldn't read image {filename}. Skipping.\")\n",
    "        continue\n",
    "\n",
    "    img = cv2.cvtColor(img, cv2.COLOR_BGR2RGB)\n",
    "    img_resized = cv2.resize(img, (256, 256))\n",
    "    colorize.append(img_resized)\n",
    "\n",
    "    ax[row, 0].imshow(img_resized, interpolation='nearest')\n",
    "    ax[row, 0].set_title(f'Original - {filename}')\n",
    "\n",
    "    row += 1\n",
    "\n",
    "# Convert colorize to numpy array and preprocess for testing\n",
    "colorize = numpy.array(colorize, dtype=float)\n",
    "colorize = skimage.color.rgb2lab(1.0 / 255 * colorize)[:, :, :, 0]\n",
    "colorize = colorize.reshape(colorize.shape + (1,))\n",
    "\n",
    "# Test the model on the colorize images\n",
    "output = loaded_model.predict(colorize)\n",
    "output *= 128\n",
    "\n",
    "row = 0\n",
    "\n",
    "# Output colorizations\n",
    "for i in range(len(output)):\n",
    "    cur = numpy.zeros((256, 256, 3))\n",
    "    cur[:, :, 0] = colorize[i][:, :, 0]\n",
    "    cur[:, :, 1:] = output[i]\n",
    "    resImage = skimage.color.lab2rgb(cur)\n",
    "\n",
    "    ax[row, 1].imshow(resImage, interpolation='nearest')\n",
    "    ax[row, 1].set_title(f'Colorized - {filename}')\n",
    "    row += 1\n",
    "\n",
    "matplotlib.pyplot.show()"
   ]
  }
 ],
 "metadata": {
  "kernelspec": {
   "display_name": "Python 3",
   "language": "python",
   "name": "python3"
  },
  "language_info": {
   "codemirror_mode": {
    "name": "ipython",
    "version": 3
   },
   "file_extension": ".py",
   "mimetype": "text/x-python",
   "name": "python",
   "nbconvert_exporter": "python",
   "pygments_lexer": "ipython3",
   "version": "3.11.7"
  }
 },
 "nbformat": 4,
 "nbformat_minor": 2
}
