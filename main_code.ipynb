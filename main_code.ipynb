{
 "cells": [
  {
   "cell_type": "code",
   "execution_count": null,
   "metadata": {
    "colab": {},
    "colab_type": "code",
    "id": "OB0VGvf_zUwg"
   },
   "outputs": [],
   "source": [
    "# Importing Libraries\n",
    "\n",
    "from tensorflow.keras.utils import array_to_img, img_to_array, load_img\n",
    "from tensorflow.keras.preprocessing.image import ImageDataGenerator\n",
    "from skimage.color import rgb2lab, lab2rgb, rgb2gray\n",
    "from skimage.io import imsave\n",
    "import numpy as np\n",
    "import os\n",
    "import random\n",
    "import tensorflow as tf"
   ]
  },
  {
   "cell_type": "code",
   "execution_count": null,
   "metadata": {
    "colab": {},
    "colab_type": "code",
    "id": "dcngzGPVZPXG"
   },
   "outputs": [],
   "source": [
    "# Getting Images\n",
    "\n",
    "X = []\n",
    "for imagename in os.listdir('Dataset/Training_Image/'):\n",
    "    X.append(img_to_array(\n",
    "        load_img('Dataset/Training_Image/'+imagename, target_size=(256, 256))))\n",
    "X = np.array(X, dtype=float)\n",
    "\n",
    "\n",
    "# Set up train and test data\n",
    "split = int(0.95*len(X))\n",
    "Xtrain = X[:split]\n",
    "Xtrain = 1.0/255*Xtrain\n",
    "\n",
    "# set up Test data\n",
    "Xtest = X[split:]\n",
    "Xtest = 1.0/255*Xtest"
   ]
  },
  {
   "cell_type": "code",
   "execution_count": null,
   "metadata": {
    "colab": {},
    "colab_type": "code",
    "id": "rQluK8okZdS-"
   },
   "outputs": [],
   "source": [
    "# CNN model\n",
    "\n",
    "from keras.layers import Conv2D, Conv2DTranspose, UpSampling2D\n",
    "from keras.layers import Activation, Dense, Dropout, Flatten, InputLayer\n",
    "from keras.layers.normalization import BatchNormalization\n",
    "from keras.callbacks import TensorBoard, ModelCheckpoint\n",
    "from keras.models import Sequential\n",
    "\n",
    "model = Sequential()\n",
    "\n",
    "# Input Layer\n",
    "model.add(Conv2D(64, (3, 3), input_shape=(256, 256, 1),\n",
    "          activation='relu', padding='same'))\n",
    "\n",
    "# Hidden Layers\n",
    "model.add(Conv2D(64, (3, 3), activation='relu', padding='same', strides=2))\n",
    "model.add(Conv2D(128, (3, 3), activation='relu', padding='same'))\n",
    "model.add(Conv2D(128, (3, 3), activation='relu', padding='same', strides=2))\n",
    "model.add(Conv2D(256, (3, 3), activation='relu', padding='same'))\n",
    "model.add(Conv2D(256, (3, 3), activation='relu', padding='same', strides=2))\n",
    "model.add(Conv2D(512, (3, 3), activation='relu', padding='same'))\n",
    "model.add(Conv2D(256, (3, 3), activation='relu', padding='same'))\n",
    "model.add(Conv2D(128, (3, 3), activation='relu', padding='same'))\n",
    "model.add(UpSampling2D((2, 2)))\n",
    "model.add(Conv2D(64, (3, 3), activation='relu', padding='same'))\n",
    "model.add(UpSampling2D((2, 2)))\n",
    "model.add(Conv2D(32, (3, 3), activation='relu', padding='same'))\n",
    "model.add(Conv2D(2, (3, 3), activation='tanh', padding='same'))\n",
    "model.add(UpSampling2D((2, 2)))\n",
    "\n",
    "# Compiling the CNN\n",
    "model.compile(optimizer='rmsprop', loss='mse', metrics=['accuracy'])"
   ]
  },
  {
   "cell_type": "code",
   "execution_count": null,
   "metadata": {
    "colab": {
     "base_uri": "https://localhost:8080/",
     "height": 17535
    },
    "colab_type": "code",
    "id": "eUkYfqqUuWrd",
    "outputId": "3d80459c-1bd1-4c2f-d2b8-5d191dc6bf13"
   },
   "outputs": [],
   "source": [
    "import matplotlib.pyplot as plt\n",
    "\n",
    "# Image transformer\n",
    "datagen = ImageDataGenerator(\n",
    "    shear_range=0.2,\n",
    "    zoom_range=0.2,\n",
    "    rotation_range=20,\n",
    "    horizontal_flip=True)\n",
    "\n",
    "# Generate training data\n",
    "batch_size = 10\n",
    "\n",
    "\n",
    "def image_a_b_gen(batch_size):\n",
    "    for batch in datagen.flow(Xtrain, batch_size=batch_size):\n",
    "        lab_batch = rgb2lab(batch)\n",
    "        X_batch = lab_batch[:, :, :, 0]\n",
    "        Y_batch = lab_batch[:, :, :, 1:] / 128\n",
    "        yield (X_batch.reshape(X_batch.shape+(1,)), Y_batch)\n",
    "\n",
    "\n",
    "# Train model\n",
    "tensorboard = TensorBoard(log_dir=\"Model/\")\n",
    "trainedmodel = model.fit(image_a_b_gen(batch_size), callbacks=[\n",
    "                         tensorboard], epochs=500, steps_per_epoch=30)\n",
    "\n",
    "\n",
    "# Summarize history for model accuracy\n",
    "plt.plot(trainedmodel.history['acc'])\n",
    "plt.title('model accuracy')\n",
    "plt.ylabel('accuracy')\n",
    "plt.xlabel('epoch')\n",
    "plt.legend(['train', 'test'], loc='upper left')\n",
    "plt.show()\n",
    "\n",
    "# Summarize history for model loss\n",
    "plt.plot(trainedmodel.history['loss'])\n",
    "plt.title('model loss')\n",
    "plt.ylabel('loss')\n",
    "plt.xlabel('epoch')\n",
    "plt.legend(['train', 'test'], loc='upper left')\n",
    "plt.show()"
   ]
  },
  {
   "cell_type": "code",
   "execution_count": null,
   "metadata": {
    "colab": {},
    "colab_type": "code",
    "id": "J2VD886hawiN"
   },
   "outputs": [],
   "source": [
    "# Save model\n",
    "\n",
    "model_json = model.to_json()\n",
    "with open(\"Model/model.json\", \"w\") as json_file:\n",
    "    json_file.write(model_json)\n",
    "model.save_weights(\"Model/model.h5\")"
   ]
  },
  {
   "cell_type": "code",
   "execution_count": null,
   "metadata": {
    "colab": {},
    "colab_type": "code",
    "id": "G7R1KkZm1RPs"
   },
   "outputs": [],
   "source": [
    "# load json and create model\n",
    "\n",
    "from keras.models import model_from_json\n",
    "json_file = open('Model/model.json', 'r')\n",
    "loaded_model_json = json_file.read()\n",
    "json_file.close()\n",
    "loaded_model = model_from_json(loaded_model_json)\n",
    "# load weights into new model\n",
    "loaded_model.load_weights(\"Model/model.h5\")"
   ]
  },
  {
   "cell_type": "code",
   "execution_count": null,
   "metadata": {
    "scrolled": true
   },
   "outputs": [],
   "source": [
    "loaded_model.summary()"
   ]
  },
  {
   "cell_type": "code",
   "execution_count": null,
   "metadata": {},
   "outputs": [],
   "source": [
    "# Test images\n",
    "loaded_model.compile(optimizer='rmsprop', loss='mse', metrics=['accuracy'])\n",
    "Xtest = rgb2lab(1.0/255*X[split:])[:, :, :, 0]\n",
    "Xtest = Xtest.reshape(Xtest.shape+(1,))\n",
    "Ytest = rgb2lab(1.0/255*X[split:])[:, :, :, 1:]\n",
    "Ytest = Ytest / 128\n",
    "print(loaded_model.evaluate(Xtest, Ytest, batch_size=10))"
   ]
  },
  {
   "cell_type": "code",
   "execution_count": null,
   "metadata": {},
   "outputs": [],
   "source": [
    "import cv2\n",
    "import os\n",
    "import numpy as np\n",
    "import matplotlib.pyplot as plt\n",
    "\n",
    "fig, ax = plt.subplots(24, 2, figsize=(16, 100))\n",
    "row = 0\n",
    "colorize = []\n",
    "\n",
    "print('Output of the Model')\n",
    "\n",
    "\n",
    "for filename in os.listdir('Dataset/Testing_Image/'):\n",
    "    img = cv2.imread('Dataset/Testing_Image/' + filename)\n",
    "\n",
    "    # Check if image is read correctly\n",
    "    if img is None:\n",
    "        print(f\"Couldn't read image {filename}. Skipping.\")\n",
    "        continue\n",
    "\n",
    "    img = cv2.cvtColor(img, cv2.COLOR_BGR2RGB)\n",
    "    img_resized = cv2.resize(img, (256, 256))\n",
    "    colorize.append(img_resized)\n",
    "\n",
    "    ax[row, 0].imshow(cv2.cvtColor(\n",
    "        img_resized, cv2.COLOR_BGR2RGB), interpolation='nearest')\n",
    "    row += 1\n",
    "\n",
    "colorize = np.array(colorize, dtype=float)\n",
    "colorize = rgb2lab(1.0/255 * colorize)[:, :, :, 0]\n",
    "colorize = colorize.reshape(colorize.shape + (1,))\n",
    "\n",
    "# Test model\n",
    "output = loaded_model.predict(colorize)\n",
    "output *= 128\n",
    "\n",
    "row = 0\n",
    "\n",
    "# Output colorizations\n",
    "for i in range(len(output)):\n",
    "    cur = np.zeros((256, 256, 3))\n",
    "    cur[:, :, 0] = colorize[i][:, :, 0]\n",
    "    cur[:, :, 1:] = output[i]\n",
    "    resImage = lab2rgb(cur)\n",
    "\n",
    "    ax[row, 1].imshow(resImage, interpolation='nearest')\n",
    "    row += 1"
   ]
  }
 ],
 "metadata": {
  "accelerator": "GPU",
  "colab": {
   "collapsed_sections": [],
   "name": "Auto color.ipynb",
   "provenance": [],
   "version": "0.3.2"
  },
  "kernelspec": {
   "display_name": "Python 3 (ipykernel)",
   "language": "python",
   "name": "python3"
  },
  "language_info": {
   "codemirror_mode": {
    "name": "ipython",
    "version": 3
   },
   "file_extension": ".py",
   "mimetype": "text/x-python",
   "name": "python",
   "nbconvert_exporter": "python",
   "pygments_lexer": "ipython3",
   "version": "3.11.4"
  }
 },
 "nbformat": 4,
 "nbformat_minor": 4
}
